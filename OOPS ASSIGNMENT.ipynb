{
 "cells": [
  {
   "cell_type": "raw",
   "id": "4945e247-4632-4fd2-9e8f-db1bf39c5826",
   "metadata": {},
   "source": [
    "Q1)Create a vehicle class with an init method having instance variables as name_of_vehicle, max_speed\n",
    "and average_of_vehicle."
   ]
  },
  {
   "cell_type": "raw",
   "id": "e4fca63d-e897-4d34-9f34-c45fb0eda6f2",
   "metadata": {},
   "source": [
    "class vehicle :\n",
    "    \n",
    "    def __init__(self,name_of_vehicle,max_speed,vehicle_speed):\n",
    "        self.name_of_vehicle=name_of_vehicle\n",
    "        self.max_speed=max_speed\n",
    "        self.vehicle_speed=vehicle_speed"
   ]
  },
  {
   "cell_type": "raw",
   "id": "f46d370c-7c71-4309-8b36-1d848a89c7d0",
   "metadata": {},
   "source": [
    "Q2)Q2. Create a child class car from the vehicle class created in Que 1, which will inherit the vehicle class.\n",
    "Create a method named seating_capacity which takes capacity as an argument and returns the name of\n",
    "the vehicle and its seating capacity."
   ]
  },
  {
   "cell_type": "code",
   "execution_count": 3,
   "id": "e6057da9-f27b-46d7-95ec-6baa8aed4de4",
   "metadata": {},
   "outputs": [],
   "source": [
    "class car(vehicle):\n",
    "    \n",
    "    def seating_capacity(self,capacity):\n",
    "        self.capacity=capacity\n",
    "        \n",
    "     \n",
    "    "
   ]
  },
  {
   "cell_type": "code",
   "execution_count": 5,
   "id": "e63a5edf-5860-4839-b7d1-9434ad83b10c",
   "metadata": {},
   "outputs": [],
   "source": [
    "   car_obj=car(\"honda\",'120','65')"
   ]
  },
  {
   "cell_type": "code",
   "execution_count": 7,
   "id": "d0455a5d-087f-45f8-a62b-2a18a3b5bcbb",
   "metadata": {},
   "outputs": [
    {
     "data": {
      "text/plain": [
       "'honda'"
      ]
     },
     "execution_count": 7,
     "metadata": {},
     "output_type": "execute_result"
    }
   ],
   "source": [
    "car_obj.name_of_vehicle"
   ]
  },
  {
   "cell_type": "code",
   "execution_count": 10,
   "id": "50cec2bd-1253-4439-a182-740390e0078b",
   "metadata": {},
   "outputs": [],
   "source": [
    "car_obj.seating_capacity(12)"
   ]
  },
  {
   "cell_type": "raw",
   "id": "9984220b-27b7-4dd3-a64e-ec83a903c226",
   "metadata": {},
   "source": [
    "Q3. What is multiple inheritance? Write a python code to demonstrate multiple inheritance."
   ]
  },
  {
   "cell_type": "raw",
   "id": "97612ae4-e6a7-4bc2-ac23-51fc2433cff2",
   "metadata": {},
   "source": [
    "When a class is derived from more than one base class it is called multiple Inheritance. The derived class inherits all the features of the base case. Syntax: Class Base1: Body of the class Class Base2: Body of the class Class Derived(Base1, Base2): Body of the class.\n",
    "\n"
   ]
  },
  {
   "cell_type": "code",
   "execution_count": 13,
   "id": "eb9e8cd0-7178-464c-b08c-8dc39f23a460",
   "metadata": {},
   "outputs": [],
   "source": [
    "class class1 :\n",
    "    \n",
    "    def test_class1(self) :\n",
    "        return \"First Class\""
   ]
  },
  {
   "cell_type": "code",
   "execution_count": 14,
   "id": "234ceaa5-f6e4-497a-8936-9e46231495e7",
   "metadata": {},
   "outputs": [],
   "source": [
    "class class2 :\n",
    "    \n",
    "    def test_class2(self) :\n",
    "        return \"Second Class\""
   ]
  },
  {
   "cell_type": "code",
   "execution_count": 15,
   "id": "84cd6dd8-9118-45d2-947e-91b7f78408d8",
   "metadata": {},
   "outputs": [],
   "source": [
    "class class3(class1, class2) :\n",
    "    \n",
    "    def test_class3(self) :\n",
    "        return \"third Class\""
   ]
  },
  {
   "cell_type": "code",
   "execution_count": 16,
   "id": "e8cdd27d-f01b-4e0c-accd-ca08ae8f00e7",
   "metadata": {},
   "outputs": [],
   "source": [
    "object_class3=class3()"
   ]
  },
  {
   "cell_type": "code",
   "execution_count": 18,
   "id": "3328fba0-9cca-4c77-adf1-ba6db6af03d7",
   "metadata": {},
   "outputs": [
    {
     "data": {
      "text/plain": [
       "'Second Class'"
      ]
     },
     "execution_count": 18,
     "metadata": {},
     "output_type": "execute_result"
    }
   ],
   "source": [
    "object_class3.test_class2()"
   ]
  },
  {
   "cell_type": "raw",
   "id": "5aa71888-a2d5-43ee-8499-9c646fa15822",
   "metadata": {},
   "source": [
    "Q3)"
   ]
  },
  {
   "cell_type": "raw",
   "id": "f0a8c5e9-1708-49ca-a88f-2fa053c49cd2",
   "metadata": {},
   "source": [
    "Getter: A method that allows you to access an attribute in a given class.\n",
    "Setter: A method that allows you to set or mutate the value of an attribute in a class."
   ]
  },
  {
   "cell_type": "raw",
   "id": "2753dda8-50a9-4685-9218-0fc91748072a",
   "metadata": {},
   "source": [
    "Q5.What is method overriding in python?"
   ]
  },
  {
   "cell_type": "code",
   "execution_count": null,
   "id": "f460d8bd-ecd8-4e6c-b576-e0aa3703cc28",
   "metadata": {},
   "outputs": [],
   "source": []
  }
 ],
 "metadata": {
  "kernelspec": {
   "display_name": "Python 3 (ipykernel)",
   "language": "python",
   "name": "python3"
  },
  "language_info": {
   "codemirror_mode": {
    "name": "ipython",
    "version": 3
   },
   "file_extension": ".py",
   "mimetype": "text/x-python",
   "name": "python",
   "nbconvert_exporter": "python",
   "pygments_lexer": "ipython3",
   "version": "3.10.8"
  }
 },
 "nbformat": 4,
 "nbformat_minor": 5
}
